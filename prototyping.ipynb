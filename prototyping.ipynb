{
 "cells": [
  {
   "cell_type": "code",
   "execution_count": 175,
   "metadata": {},
   "outputs": [],
   "source": [
    "import features as feat\n",
    "import clusterize as clust\n",
    "\n",
    "from sklearn.decomposition import PCA\n",
    "from sklearn.manifold import TSNE\n",
    "from sklearn.preprocessing import StandardScaler\n",
    "from sklearn.neighbors import kneighbors_graph\n",
    "\n",
    "from sklearn.metrics import silhouette_score\n",
    "\n",
    "from sklearn.cluster import KMeans, MiniBatchKMeans, AgglomerativeClustering, DBSCAN\n",
    "from sklearn.mixture import BayesianGaussianMixture, GaussianMixture\n",
    "\n",
    "\n",
    "import numpy as np\n",
    "import pandas as pd\n",
    "import seaborn as sns\n",
    "import matplotlib.pyplot as plt\n",
    "\n",
    "import math\n",
    "import torch\n",
    "\n",
    "FEATURES_PATH = \"/home/guilherme/Mestrado/action_segmentation_app/data/RoadAccidents010_x264.mp4\""
   ]
  },
  {
   "cell_type": "code",
   "execution_count": 176,
   "metadata": {},
   "outputs": [
    {
     "data": {
      "text/plain": [
       "((512, 2304), 1.0, -3.62181e-09, -3.710279, 5.5677643)"
      ]
     },
     "execution_count": 176,
     "metadata": {},
     "output_type": "execute_result"
    }
   ],
   "source": [
    "features = feat.Features(FEATURES_PATH).read()\n",
    "features = StandardScaler().fit_transform(features)\n",
    "features.shape, features.std(), features.mean(), features.min(), features.max()"
   ]
  },
  {
   "cell_type": "code",
   "execution_count": 137,
   "metadata": {},
   "outputs": [],
   "source": [
    "def positional_encoding(data):\n",
    "    d_model = data.shape[1]\n",
    "    length = data.shape[0]\n",
    "    \n",
    "    pe = torch.zeros(length, d_model)\n",
    "    position = torch.arange(0, length).unsqueeze(1)\n",
    "    den_exp = torch.exp((torch.arange(0, d_model, 2, dtype=torch.float) *\n",
    "                            -(math.log(10000.0) / d_model)))\n",
    "    pe[:, 0::2] = torch.sin(position.float() * den_exp)\n",
    "    pe[:, 1::2] = torch.cos(position.float() * den_exp)\n",
    "    \n",
    "    return data + pe.numpy()"
   ]
  },
  {
   "cell_type": "code",
   "execution_count": 177,
   "metadata": {},
   "outputs": [],
   "source": [
    "pos_enc_features = positional_encoding(features)"
   ]
  },
  {
   "cell_type": "code",
   "execution_count": 178,
   "metadata": {},
   "outputs": [],
   "source": [
    "def dim_reduction(data):\n",
    "    pca = PCA(n_components=50)\n",
    "    reduced_features = pca.fit_transform(data)\n",
    "\n",
    "    tsne = TSNE(n_components=2, perplexity=50)\n",
    "    vis_features = tsne.fit_transform(reduced_features)\n",
    "    return vis_features\n",
    "\n",
    "\n",
    "def bic_estimate_clusters(data):\n",
    "    \n",
    "    bics = []\n",
    "    min_bic = math.inf\n",
    "    min_bic_model = None\n",
    "    \n",
    "    for n in range(1, 13):\n",
    "        estimator = GaussianMixture(n_components=n)\n",
    "        estimator.fit(data)\n",
    "        bics.append(estimator.bic(data))    \n",
    "        \n",
    "        if bics[-1] < min_bic:\n",
    "            min_bic = bics[-1]\n",
    "            min_bic_model = estimator\n",
    "        \n",
    "        print(n)\n",
    "\n",
    "    red_data = dim_reduction(data)\n",
    "    \n",
    "    c_df = pd.DataFrame()\n",
    "    c_df['BIC'] = bics\n",
    "    c_df['n_components'] = list(range(1, n+1))\n",
    "    \n",
    "    vis_df = pd.DataFrame(red_data, columns=[\"x\", \"y\"])\n",
    "    vis_df[\"labels\"] = min_bic_model.predict(data)    \n",
    "\n",
    "    return vis_df, c_df"
   ]
  },
  {
   "cell_type": "code",
   "execution_count": 189,
   "metadata": {},
   "outputs": [],
   "source": [
    "def silh_estimate_clusters(data):\n",
    "    \n",
    "    sils = []\n",
    "    max_sil = -math.inf\n",
    "    max_sil_model = None\n",
    "    not_inc_iter = 0\n",
    "    upper_clust_lim = int(data.shape[0] / 16 * 0.5)\n",
    "#     batch_size = int(data.shape[0] * 0.1)\n",
    "    \n",
    "    for n in range(2, upper_clust_lim):\n",
    "#         estimator = KMeans(n_clusters=n, random_state=42)\n",
    "        estimator = AgglomerativeClustering(n_clusters=n, linkage='average', affinity='cosine')\n",
    "#         estimator = GaussianMixture(n_components=n, random_state=42)\n",
    "        estimator.fit(data)\n",
    "        sils.append(silhouette_score(data, estimator.labels_))    \n",
    "        \n",
    "        if sils[-1] > max_sil:  # new silhoutte must be at least 5% greater than silhoutte of simpler model\n",
    "            max_sil = sils[-1]\n",
    "            max_sil_model = estimator\n",
    "            not_inc_iter = 0\n",
    "        else:\n",
    "            not_inc_iter += 1\n",
    "        \n",
    "        if not_inc_iter >= 3:\n",
    "            break\n",
    "        \n",
    "        print(n, not_inc_iter)\n",
    "\n",
    "    red_data = dim_reduction(data)\n",
    "    \n",
    "    c_df = pd.DataFrame()\n",
    "    c_df['silhouette'] = sils\n",
    "    c_df['n_components'] = list(range(2, n+1))\n",
    "    \n",
    "    \n",
    "    vis_df = pd.DataFrame(red_data, columns=[\"x\", \"y\"])\n",
    "    vis_df[\"labels\"] = max_sil_model.labels_    \n",
    "\n",
    "    return vis_df, c_df"
   ]
  },
  {
   "cell_type": "code",
   "execution_count": 180,
   "metadata": {},
   "outputs": [],
   "source": [
    "def bayesian_mixture(data):\n",
    "    upper_clust_lim = int(data.shape[0] / 16 * 0.5)\n",
    "    estimator = BayesianGaussianMixture(n_components=upper_clust_lim, random_state=42)\n",
    "    estimator.fit(data)\n",
    "    \n",
    "    red_data = dim_reduction(data)\n",
    "    vis_df = pd.DataFrame(red_data, columns=[\"x\", \"y\"])\n",
    "    vis_df[\"labels\"] = estimator.predict(data) \n",
    "    \n",
    "    return vis_df"
   ]
  },
  {
   "cell_type": "code",
   "execution_count": 181,
   "metadata": {},
   "outputs": [],
   "source": [
    "def dbscan(data):\n",
    "    estimator = DBSCAN(eps=5e1, min_samples=16)\n",
    "    estimator.fit(data)\n",
    "    \n",
    "    red_data = dim_reduction(data)\n",
    "    vis_df = pd.DataFrame(red_data, columns=[\"x\", \"y\"])\n",
    "    vis_df[\"labels\"] = estimator.labels_ \n",
    "    \n",
    "    return vis_df"
   ]
  },
  {
   "cell_type": "code",
   "execution_count": 191,
   "metadata": {},
   "outputs": [
    {
     "name": "stdout",
     "output_type": "stream",
     "text": [
      "2 0\n",
      "3 0\n",
      "4 0\n",
      "5 1\n",
      "6 2\n"
     ]
    }
   ],
   "source": [
    "vis_df, c_df = silh_estimate_clusters(data=features)"
   ]
  },
  {
   "cell_type": "code",
   "execution_count": 190,
   "metadata": {},
   "outputs": [
    {
     "name": "stdout",
     "output_type": "stream",
     "text": [
      "2 0\n",
      "3 0\n",
      "4 0\n",
      "5 1\n",
      "6 2\n"
     ]
    }
   ],
   "source": [
    "pos_vis_df, pos_c_df = silh_estimate_clusters(data=pos_enc_features)"
   ]
  },
  {
   "cell_type": "code",
   "execution_count": 142,
   "metadata": {},
   "outputs": [
    {
     "data": {
      "text/plain": [
       "<seaborn.axisgrid.FacetGrid at 0x7ff878519d30>"
      ]
     },
     "execution_count": 142,
     "metadata": {},
     "output_type": "execute_result"
    },
    {
     "data": {
      "image/png": "[encoded data removed]",
      "text/plain": [
       "<Figure size 408.75x360 with 1 Axes>"
      ]
     },
     "metadata": {
      "needs_background": "light"
     },
     "output_type": "display_data"
    }
   ],
   "source": [
    "pos_vis_df = bayesian_mixture(pos_enc_features)\n",
    "sns.lmplot(data=pos_vis_df, x='x', y='y', hue='labels', \n",
    "           x_jitter=.3, y_jitter=.3,\n",
    "           fit_reg=False, legend=True, legend_out=True).set(title=\"BGM clusters\")"
   ]
  },
  {
   "cell_type": "code",
   "execution_count": 147,
   "metadata": {},
   "outputs": [
    {
     "data": {
      "text/plain": [
       "<seaborn.axisgrid.FacetGrid at 0x7ff88a6154e0>"
      ]
     },
     "execution_count": 147,
     "metadata": {},
     "output_type": "execute_result"
    },
    {
     "data": {
      "image/png": "[encoded data removed]",
      "text/plain": [
       "<Figure size 408.75x360 with 1 Axes>"
      ]
     },
     "metadata": {
      "needs_background": "light"
     },
     "output_type": "display_data"
    }
   ],
   "source": [
    "pos_vis_df = bayesian_mixture(features)\n",
    "sns.lmplot(data=pos_vis_df, x='x', y='y', hue='labels', \n",
    "           x_jitter=.3, y_jitter=.3,\n",
    "           fit_reg=False, legend=True, legend_out=True).set(title=\"BGM clusters\")"
   ]
  },
  {
   "cell_type": "code",
   "execution_count": 192,
   "metadata": {},
   "outputs": [
    {
     "data": {
      "text/plain": [
       "<seaborn.axisgrid.FacetGrid at 0x7ff871fe6e80>"
      ]
     },
     "execution_count": 192,
     "metadata": {},
     "output_type": "execute_result"
    },
    {
     "data": {
      "image/png": "[encoded data removed]",
      "text/plain": [
       "<Figure size 432x288 with 1 Axes>"
      ]
     },
     "metadata": {
      "needs_background": "light"
     },
     "output_type": "display_data"
    },
    {
     "data": {
      "image/png": "[encoded data removed]",
      "text/plain": [
       "<Figure size 402.375x360 with 1 Axes>"
      ]
     },
     "metadata": {
      "needs_background": "light"
     },
     "output_type": "display_data"
    }
   ],
   "source": [
    "sns.lineplot(y='silhouette', x='n_components', data=c_df).set(title=\"Normal features\")\n",
    "sns.lmplot(data=vis_df, x='x', y='y', hue='labels', \n",
    "           x_jitter=.3, y_jitter=.3,\n",
    "           fit_reg=False, legend=True, legend_out=True).set(title=\"Sil clusters\")"
   ]
  },
  {
   "cell_type": "code",
   "execution_count": 193,
   "metadata": {},
   "outputs": [
    {
     "data": {
      "text/plain": [
       "<seaborn.axisgrid.FacetGrid at 0x7ff871e75710>"
      ]
     },
     "execution_count": 193,
     "metadata": {},
     "output_type": "execute_result"
    },
    {
     "data": {
      "image/png": "[encoded data removed]",
      "text/plain": [
       "<Figure size 432x288 with 1 Axes>"
      ]
     },
     "metadata": {
      "needs_background": "light"
     },
     "output_type": "display_data"
    },
    {
     "data": {
      "image/png": "[encoded data removed]",
      "text/plain": [
       "<Figure size 402.375x360 with 1 Axes>"
      ]
     },
     "metadata": {
      "needs_background": "light"
     },
     "output_type": "display_data"
    }
   ],
   "source": [
    "sns.lineplot(y='silhouette', x='n_components', data=pos_c_df).set(title=\"Positional Encoded features\")\n",
    "sns.lmplot(data=pos_vis_df, x='x', y='y', hue='labels', \n",
    "           x_jitter=.3, y_jitter=.3,\n",
    "           fit_reg=False, legend=True, legend_out=True).set(title=\"Sil clusters\")"
   ]
  },
  {
   "cell_type": "code",
   "execution_count": 209,
   "metadata": {},
   "outputs": [],
   "source": [
    "from external.KTS.cpd_auto import cpd_auto\n",
    "from external.KTS.cpd_auto import estimate_vmax"
   ]
  },
  {
   "cell_type": "code",
   "execution_count": 257,
   "metadata": {},
   "outputs": [],
   "source": [
    "def compute_change_points(data: np.ndarray) -> tuple:\n",
    "    \"\"\" Given a 2D numpy array of features this method computes the change\n",
    "    points for a video with the algorithm KTS\n",
    "    Args:\n",
    "        features: 2D numpy array representing the features of a video\n",
    "    Returns:\n",
    "        a tuple with a list of the change points and a list with scores of\n",
    "        each change point. The change points are the x indices in the fea-\n",
    "        -tures numpy array.\n",
    "    \"\"\"\n",
    "    upper_clust_lim = int(data.shape[0] / 16 * 0.5)\n",
    "    k_data = np.dot(data, data.T)\n",
    "    vmax = estimate_vmax(k_data)\n",
    "    print(vmax)\n",
    "    cps, scores = cpd_auto(k_data, ncp=upper_clust_lim, vmax=vmax, lmin=30, lmax=upper_clust_lim * 16)\n",
    "    return cps, scores"
   ]
  },
  {
   "cell_type": "code",
   "execution_count": 258,
   "metadata": {},
   "outputs": [
    {
     "name": "stdout",
     "output_type": "stream",
     "text": [
      "2971.0\n",
      "Precomputing scatters...\n",
      "Inferring best change points...\n",
      "Precomputing scatters...\n",
      "Inferring best change points...\n"
     ]
    },
    {
     "data": {
      "text/plain": [
       "(15,\n",
       " array([ 32,  64,  96, 128, 160, 192, 224, 256, 288, 320, 352, 384, 416,\n",
       "        448, 480]),\n",
       " array([          inf,           inf, 1815.31141983, 1635.91671397,\n",
       "        1488.20923336, 1344.78554352, 1255.51685051, 1187.55776225,\n",
       "        1130.74509444, 1086.35892033, 1045.1367544 , 1009.03869141,\n",
       "         992.29785131,  975.38565923,  959.99762302,  950.49250175,\n",
       "        1051.69332215]))"
      ]
     },
     "execution_count": 258,
     "metadata": {},
     "output_type": "execute_result"
    }
   ],
   "source": [
    "cps, scores = compute_change_points(pos_enc_features)\n",
    "len(cps), cps, scores"
   ]
  },
  {
   "cell_type": "code",
   "execution_count": 221,
   "metadata": {},
   "outputs": [
    {
     "name": "stdout",
     "output_type": "stream",
     "text": [
      "2971.0\n",
      "Precomputing scatters...\n",
      "Inferring best change points...\n",
      "Precomputing scatters...\n",
      "Inferring best change points...\n"
     ]
    },
    {
     "data": {
      "text/plain": [
       "(array([ 32,  48,  96, 160, 176, 192, 208, 224, 240, 256, 272, 288, 320,\n",
       "        368, 416, 480]),\n",
       " array([2970.99977255, 2100.53192667, 1777.34427723, 1582.49402167,\n",
       "        1412.3422872 , 1255.18144097, 1141.23404672, 1042.24921682,\n",
       "         960.26161563,  879.63477879,  821.97802829,  765.70342282,\n",
       "         710.89083942,  658.32760633,  610.95452938,  568.97363521,\n",
       "         539.73940034]))"
      ]
     },
     "execution_count": 221,
     "metadata": {},
     "output_type": "execute_result"
    }
   ],
   "source": [
    "compute_change_points(pos_enc_features)"
   ]
  },
  {
   "cell_type": "code",
   "execution_count": 12,
   "metadata": {},
   "outputs": [],
   "source": [
    "def get_segments(data: np.ndarray):\n",
    "    \"\"\" Get continuous time intervals (segments) from a video\n",
    "    \n",
    "    args:\n",
    "    data - label of each segment\n",
    "    labels - the unique labels\n",
    "    \n",
    "    return:\n",
    "    segs - dict of list of tuples, where each key is a label and tuple is a continuous segment \n",
    "    \"\"\"\n",
    "    segs = []\n",
    "    for label in np.unique(data):\n",
    "        idxs = np.where(data == label)[0]\n",
    "        curr = idxs[0]\n",
    "        last = None\n",
    "        step = 0\n",
    "        for idx in idxs:\n",
    "            if idx != curr + step:\n",
    "                segs.append({label: (curr, last)})\n",
    "                curr = idx\n",
    "                step = 1\n",
    "                last = None\n",
    "            else:\n",
    "                last = idx\n",
    "                step += 1\n",
    "\n",
    "        segs.append({label: (curr, idx)})\n",
    "    segs.sort(key=lambda value: list(value.values())[0])\n",
    "    return segs"
   ]
  },
  {
   "cell_type": "code",
   "execution_count": 13,
   "metadata": {},
   "outputs": [
    {
     "data": {
      "text/plain": [
       "[{1: (0, 47)},\n",
       " {5: (48, 191)},\n",
       " {3: (192, 239)},\n",
       " {2: (240, 255)},\n",
       " {0: (256, 271)},\n",
       " {4: (272, 335)},\n",
       " {0: (336, 511)}]"
      ]
     },
     "execution_count": 13,
     "metadata": {},
     "output_type": "execute_result"
    }
   ],
   "source": [
    "get_segments(gm_labels)"
   ]
  },
  {
   "cell_type": "code",
   "execution_count": 4,
   "metadata": {},
   "outputs": [],
   "source": [
    "from video import Video"
   ]
  },
  {
   "cell_type": "code",
   "execution_count": 6,
   "metadata": {},
   "outputs": [
    {
     "name": "stdout",
     "output_type": "stream",
     "text": [
      "save\n",
      "save\n",
      "save\n",
      "save\n",
      "save\n",
      "save\n",
      "save\n",
      "save\n",
      "save\n",
      "save\n",
      "save\n",
      "save\n",
      "save\n",
      "save\n",
      "save\n",
      "save\n",
      "save\n",
      "save\n",
      "save\n",
      "save\n",
      "save\n",
      "save\n",
      "save\n",
      "save\n",
      "save\n",
      "save\n",
      "save\n",
      "save\n",
      "save\n",
      "save\n",
      "save\n",
      "save\n",
      "save\n",
      "save\n",
      "save\n",
      "save\n",
      "save\n",
      "save\n",
      "save\n",
      "save\n",
      "save\n",
      "save\n",
      "save\n",
      "save\n",
      "save\n",
      "save\n",
      "save\n",
      "save\n",
      "save\n",
      "save\n",
      "save\n",
      "save\n",
      "save\n",
      "save\n",
      "save\n",
      "save\n",
      "save\n",
      "save\n",
      "save\n",
      "save\n",
      "save\n",
      "save\n",
      "save\n",
      "save\n",
      "save\n",
      "save\n",
      "save\n",
      "save\n",
      "save\n",
      "save\n",
      "save\n",
      "save\n",
      "save\n",
      "save\n",
      "save\n",
      "save\n",
      "save\n",
      "save\n",
      "save\n",
      "save\n",
      "save\n",
      "save\n",
      "save\n",
      "save\n",
      "save\n",
      "save\n",
      "save\n",
      "save\n",
      "save\n",
      "save\n",
      "save\n",
      "save\n",
      "save\n",
      "save\n",
      "save\n",
      "save\n",
      "save\n",
      "save\n",
      "save\n",
      "save\n",
      "save\n",
      "save\n",
      "save\n",
      "save\n",
      "save\n",
      "save\n",
      "save\n",
      "save\n",
      "save\n",
      "save\n",
      "save\n",
      "save\n",
      "save\n",
      "save\n",
      "save\n",
      "save\n",
      "save\n",
      "save\n",
      "save\n",
      "save\n",
      "save\n",
      "save\n",
      "save\n",
      "save\n",
      "save\n",
      "save\n",
      "save\n",
      "save\n",
      "save\n",
      "save\n",
      "save\n",
      "save\n",
      "save\n",
      "save\n",
      "save\n",
      "save\n",
      "save\n",
      "save\n",
      "save\n",
      "save\n",
      "save\n",
      "save\n",
      "save\n",
      "save\n",
      "save\n",
      "save\n",
      "save\n",
      "save\n",
      "save\n",
      "save\n",
      "save\n",
      "save\n",
      "save\n",
      "save\n",
      "save\n",
      "save\n",
      "save\n",
      "save\n",
      "save\n",
      "save\n",
      "save\n",
      "save\n",
      "save\n",
      "save\n",
      "save\n",
      "save\n",
      "save\n",
      "save\n",
      "save\n",
      "save\n",
      "save\n",
      "save\n",
      "save\n",
      "save\n",
      "save\n",
      "save\n"
     ]
    },
    {
     "ename": "FileNotFoundError",
     "evalue": "[Errno 2] No such file or directory: 'home/guilherme/Mestrado/action_segmentation_app/data/RoadAccidents010_x264.mp4_segments/temp_1_0_175_RoadAccidents010_x264.mp4'",
     "output_type": "error",
     "traceback": [
      "\u001b[0;31m---------------------------------------------------------------------------\u001b[0m",
      "\u001b[0;31mFileNotFoundError\u001b[0m                         Traceback (most recent call last)",
      "\u001b[0;32m<ipython-input-6-334235b7cc5a>\u001b[0m in \u001b[0;36m<module>\u001b[0;34m\u001b[0m\n\u001b[1;32m      1\u001b[0m \u001b[0mv\u001b[0m \u001b[0;34m=\u001b[0m \u001b[0mVideo\u001b[0m\u001b[0;34m(\u001b[0m\u001b[0mFEATURES_PATH\u001b[0m\u001b[0;34m)\u001b[0m\u001b[0;34m\u001b[0m\u001b[0;34m\u001b[0m\u001b[0m\n\u001b[0;32m----> 2\u001b[0;31m \u001b[0mpaths\u001b[0m \u001b[0;34m=\u001b[0m \u001b[0mv\u001b[0m\u001b[0;34m.\u001b[0m\u001b[0mclusters_to_videos\u001b[0m\u001b[0;34m(\u001b[0m\u001b[0mlabels\u001b[0m\u001b[0;34m)\u001b[0m\u001b[0;34m\u001b[0m\u001b[0;34m\u001b[0m\u001b[0m\n\u001b[0m",
      "\u001b[0;32m~/Mestrado/action_segmentation_app/video.py\u001b[0m in \u001b[0;36mclusters_to_videos\u001b[0;34m(self, clusters)\u001b[0m\n\u001b[1;32m     60\u001b[0m                     \u001b[0;32mbreak\u001b[0m\u001b[0;34m\u001b[0m\u001b[0;34m\u001b[0m\u001b[0m\n\u001b[1;32m     61\u001b[0m             seg_path = self.write_segment(\n\u001b[0;32m---> 62\u001b[0;31m                 np.array(seg_frames), start, end, cluster)\n\u001b[0m\u001b[1;32m     63\u001b[0m             \u001b[0mseg_paths\u001b[0m\u001b[0;34m.\u001b[0m\u001b[0mappend\u001b[0m\u001b[0;34m(\u001b[0m\u001b[0mseg_path\u001b[0m\u001b[0;34m)\u001b[0m\u001b[0;34m\u001b[0m\u001b[0;34m\u001b[0m\u001b[0m\n\u001b[1;32m     64\u001b[0m \u001b[0;34m\u001b[0m\u001b[0m\n",
      "\u001b[0;32m~/Mestrado/action_segmentation_app/video.py\u001b[0m in \u001b[0;36mwrite_segment\u001b[0;34m(self, frames, start, end, cluster)\u001b[0m\n\u001b[1;32m     73\u001b[0m \u001b[0;34m\u001b[0m\u001b[0m\n\u001b[1;32m     74\u001b[0m         \u001b[0mseg_path\u001b[0m \u001b[0;34m=\u001b[0m \u001b[0mos\u001b[0m\u001b[0;34m.\u001b[0m\u001b[0mpath\u001b[0m\u001b[0;34m.\u001b[0m\u001b[0mjoin\u001b[0m\u001b[0;34m(\u001b[0m\u001b[0mself\u001b[0m\u001b[0;34m.\u001b[0m\u001b[0msegments_dir\u001b[0m\u001b[0;34m,\u001b[0m \u001b[0mfname\u001b[0m\u001b[0;34m)\u001b[0m\u001b[0;34m\u001b[0m\u001b[0;34m\u001b[0m\u001b[0m\n\u001b[0;32m---> 75\u001b[0;31m         \u001b[0mself\u001b[0m\u001b[0;34m.\u001b[0m\u001b[0m_v_io\u001b[0m\u001b[0;34m.\u001b[0m\u001b[0mwrite\u001b[0m\u001b[0;34m(\u001b[0m\u001b[0mframes\u001b[0m\u001b[0;34m,\u001b[0m \u001b[0mseg_path\u001b[0m\u001b[0;34m)\u001b[0m\u001b[0;34m\u001b[0m\u001b[0;34m\u001b[0m\u001b[0m\n\u001b[0m\u001b[1;32m     76\u001b[0m         \u001b[0;32mreturn\u001b[0m \u001b[0mseg_path\u001b[0m\u001b[0;34m\u001b[0m\u001b[0;34m\u001b[0m\u001b[0m\n",
      "\u001b[0;32m~/Mestrado/action_segmentation_app/data_io.py\u001b[0m in \u001b[0;36mwrite\u001b[0;34m(self, frames, path)\u001b[0m\n\u001b[1;32m    120\u001b[0m \u001b[0;34m\u001b[0m\u001b[0m\n\u001b[1;32m    121\u001b[0m         \u001b[0mself\u001b[0m\u001b[0;34m.\u001b[0m\u001b[0mconvert_codec\u001b[0m\u001b[0;34m(\u001b[0m\u001b[0mtemp_path\u001b[0m\u001b[0;34m,\u001b[0m \u001b[0mpath\u001b[0m\u001b[0;34m)\u001b[0m\u001b[0;34m\u001b[0m\u001b[0;34m\u001b[0m\u001b[0m\n\u001b[0;32m--> 122\u001b[0;31m         \u001b[0mos\u001b[0m\u001b[0;34m.\u001b[0m\u001b[0mremove\u001b[0m\u001b[0;34m(\u001b[0m\u001b[0mtemp_path\u001b[0m\u001b[0;34m)\u001b[0m\u001b[0;34m\u001b[0m\u001b[0;34m\u001b[0m\u001b[0m\n\u001b[0m\u001b[1;32m    123\u001b[0m \u001b[0;34m\u001b[0m\u001b[0m\n\u001b[1;32m    124\u001b[0m     \u001b[0;32mdef\u001b[0m \u001b[0mmetadata\u001b[0m\u001b[0;34m(\u001b[0m\u001b[0mself\u001b[0m\u001b[0;34m,\u001b[0m \u001b[0mpath\u001b[0m\u001b[0;34m:\u001b[0m \u001b[0mstr\u001b[0m\u001b[0;34m)\u001b[0m \u001b[0;34m->\u001b[0m \u001b[0mtuple\u001b[0m\u001b[0;34m:\u001b[0m\u001b[0;34m\u001b[0m\u001b[0;34m\u001b[0m\u001b[0m\n",
      "\u001b[0;31mFileNotFoundError\u001b[0m: [Errno 2] No such file or directory: 'home/guilherme/Mestrado/action_segmentation_app/data/RoadAccidents010_x264.mp4_segments/temp_1_0_175_RoadAccidents010_x264.mp4'"
     ]
    }
   ],
   "source": [
    "v = Video(FEATURES_PATH)\n",
    "paths = v.clusters_to_videos(labels)"
   ]
  },
  {
   "cell_type": "code",
   "execution_count": 54,
   "metadata": {},
   "outputs": [
    {
     "data": {
      "text/plain": [
       "[{1: (0, 175)},\n",
       " {4: (176, 191)},\n",
       " {1: (192, 223)},\n",
       " {2: (224, 255)},\n",
       " {5: (256, 271)},\n",
       " {3: (272, 367)},\n",
       " {0: (368, 511)}]"
      ]
     },
     "execution_count": 54,
     "metadata": {},
     "output_type": "execute_result"
    }
   ],
   "source": [
    "get_segments(labels)"
   ]
  },
  {
   "cell_type": "code",
   "execution_count": 26,
   "metadata": {},
   "outputs": [
    {
     "data": {
      "text/plain": [
       "{0: [(240, 255)],\n",
       " 1: [(0, 15), (368, 415)],\n",
       " 2: [(48, 63), (144, 159), (256, 271), (448, 479)],\n",
       " 3: [(32, 47), (64, 143), (160, 239), (272, 351), (416, 447), (480, 511)],\n",
       " 4: [(16, 31)],\n",
       " 5: [(352, 367)]}"
      ]
     },
     "execution_count": 26,
     "metadata": {},
     "output_type": "execute_result"
    }
   ],
   "source": [
    "get_segments(sc_labels, np.unique(sc_labels))"
   ]
  }
 ],
 "metadata": {
  "kernelspec": {
   "display_name": "action_segmentation_env",
   "language": "python",
   "name": "action_segmentation_env"
  },
  "language_info": {
   "codemirror_mode": {
    "name": "ipython",
    "version": 3
   },
   "file_extension": ".py",
   "mimetype": "text/x-python",
   "name": "python",
   "nbconvert_exporter": "python",
   "pygments_lexer": "ipython3",
   "version": "3.6.9"
  }
 },
 "nbformat": 4,
 "nbformat_minor": 4
}
