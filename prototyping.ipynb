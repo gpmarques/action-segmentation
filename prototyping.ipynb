{
 "cells": [
  {
   "cell_type": "code",
   "execution_count": 116,
   "metadata": {},
   "outputs": [],
   "source": [
    "import features as feat\n",
    "import clusterize as clust\n",
    "\n",
    "from sklearn.decomposition import PCA\n",
    "from sklearn.manifold import TSNE\n",
    "from sklearn.preprocessing import scale\n",
    "from sklearn.neighbors import kneighbors_graph\n",
    "\n",
    "from sklearn.metrics import silhouette_score\n",
    "\n",
    "from sklearn.cluster import KMeans, MiniBatchKMeans, AgglomerativeClustering\n",
    "from sklearn.mixture import BayesianGaussianMixture, GaussianMixture\n",
    "\n",
    "\n",
    "import numpy as np\n",
    "import pandas as pd\n",
    "import seaborn as sns\n",
    "import matplotlib.pyplot as plt\n",
    "\n",
    "import math\n",
    "import torch\n",
    "\n",
    "FEATURES_PATH = \"/home/guilherme/Mestrado/action_segmentation_app/data/RoadAccidents010_x264.mp4\""
   ]
  },
  {
   "cell_type": "code",
   "execution_count": 117,
   "metadata": {},
   "outputs": [
    {
     "name": "stderr",
     "output_type": "stream",
     "text": [
      "/home/guilherme/.virtualenvs/action_segmentation_env/lib/python3.6/site-packages/scikit_learn-0.23.2-py3.6-linux-x86_64.egg/sklearn/preprocessing/_data.py:174: UserWarning: Numerical issues were encountered when centering the data and might not be solved. Dataset may contain too large values. You may need to prescale your features.\n",
      "  warnings.warn(\"Numerical issues were encountered \"\n",
      "/home/guilherme/.virtualenvs/action_segmentation_env/lib/python3.6/site-packages/scikit_learn-0.23.2-py3.6-linux-x86_64.egg/sklearn/preprocessing/_data.py:191: UserWarning: Numerical issues were encountered when scaling the data and might not be solved. The standard deviation of the data is probably very close to 0. \n",
      "  warnings.warn(\"Numerical issues were encountered \"\n"
     ]
    },
    {
     "data": {
      "text/plain": [
       "((512, 2304), 1.0, -7.709281e-09, -3.710277, 5.567751)"
      ]
     },
     "execution_count": 117,
     "metadata": {},
     "output_type": "execute_result"
    }
   ],
   "source": [
    "features = feat.Features(FEATURES_PATH).read()\n",
    "features = scale(features)\n",
    "features.shape, features.std(), features.mean(), features.min(), features.max()"
   ]
  },
  {
   "cell_type": "code",
   "execution_count": 118,
   "metadata": {},
   "outputs": [],
   "source": [
    "def positional_encoding(data):\n",
    "    d_model = data.shape[1]\n",
    "    length = data.shape[0]\n",
    "    \n",
    "    pe = torch.zeros(length, d_model)\n",
    "    position = torch.arange(0, length).unsqueeze(1)\n",
    "    den_exp = torch.exp((torch.arange(0, d_model, 2, dtype=torch.float) *\n",
    "                            -(math.log(10000.0) / d_model)))\n",
    "    pe[:, 0::2] = torch.sin(position.float() * den_exp)\n",
    "    pe[:, 1::2] = torch.cos(position.float() * den_exp)\n",
    "    \n",
    "    return data + pe.numpy()"
   ]
  },
  {
   "cell_type": "code",
   "execution_count": 130,
   "metadata": {},
   "outputs": [],
   "source": [
    "pos_enc_features = positional_encoding(features)"
   ]
  },
  {
   "cell_type": "code",
   "execution_count": 79,
   "metadata": {},
   "outputs": [],
   "source": [
    "def dim_reduction(data):\n",
    "    pca = PCA(n_components=50)\n",
    "    reduced_features = pca.fit_transform(data)\n",
    "\n",
    "    tsne = TSNE(n_components=2, perplexity=50)\n",
    "    vis_features = tsne.fit_transform(reduced_features)\n",
    "    return vis_features\n",
    "\n",
    "\n",
    "def bic_estimate_clusters(data):\n",
    "    \n",
    "    bics = []\n",
    "    min_bic = math.inf\n",
    "    min_bic_model = None\n",
    "    \n",
    "    for n in range(1, 13):\n",
    "        estimator = GaussianMixture(n_components=n)\n",
    "        estimator.fit(data)\n",
    "        bics.append(estimator.bic(data))    \n",
    "        \n",
    "        if bics[-1] < min_bic:\n",
    "            min_bic = bics[-1]\n",
    "            min_bic_model = estimator\n",
    "        \n",
    "        print(n)\n",
    "\n",
    "    red_data = dim_reduction(data)\n",
    "    \n",
    "    c_df = pd.DataFrame()\n",
    "    c_df['BIC'] = bics\n",
    "    c_df['n_components'] = list(range(1, n+1))\n",
    "    \n",
    "    vis_df = pd.DataFrame(red_data, columns=[\"x\", \"y\"])\n",
    "    vis_df[\"labels\"] = min_bic_model.predict(data)    \n",
    "\n",
    "    return vis_df, c_df"
   ]
  },
  {
   "cell_type": "code",
   "execution_count": 123,
   "metadata": {},
   "outputs": [],
   "source": [
    "def silh_estimate_clusters(data):\n",
    "    \n",
    "    sils = []\n",
    "    max_sil = -math.inf\n",
    "    max_sil_model = None\n",
    "    not_inc_iter = 0\n",
    "    upper_clust_lim = int(data.shape[0] / 16 * 0.5)\n",
    "#     batch_size = int(data.shape[0] * 0.1)\n",
    "    \n",
    "    for n in range(2, upper_clust_lim):\n",
    "#         estimator = MiniBatchKMeans(n_clusters=n, random_state=42)\n",
    "#         estimator = AgglomerativeClustering(n_clusters=n, linkage='single', affinity='cosine')\n",
    "        estimator = GaussianMixture(n_components=n, random_state=42)\n",
    "        estimator.fit(data)\n",
    "        sils.append(silhouette_score(data, estimator.predict(data)))    \n",
    "        \n",
    "        if (max_sil < 0 and sils[-1] > max_sil) or (sils[-1] - max_sil > max_sil * 0.05):  # new silhoutte must be at least 5% greater than silhoutte of simpler model\n",
    "            max_sil = sils[-1]\n",
    "            max_sil_model = estimator\n",
    "            not_inc_iter = 0\n",
    "        else:\n",
    "            not_inc_iter += 1\n",
    "        \n",
    "        if not_inc_iter >= 3:\n",
    "            break\n",
    "        \n",
    "        print(n, not_inc_iter)\n",
    "\n",
    "    red_data = dim_reduction(data)\n",
    "    \n",
    "    c_df = pd.DataFrame()\n",
    "    c_df['silhouette'] = sils\n",
    "    c_df['n_components'] = list(range(2, n+1))\n",
    "    \n",
    "    vis_df = pd.DataFrame(red_data, columns=[\"x\", \"y\"])\n",
    "    vis_df[\"labels\"] = max_sil_model.labels_    \n",
    "\n",
    "    return vis_df, c_df"
   ]
  },
  {
   "cell_type": "code",
   "execution_count": 132,
   "metadata": {},
   "outputs": [],
   "source": [
    "def bayesian_mixture(data):\n",
    "    upper_clust_lim = int(data.shape[0] / 16 * 0.5)\n",
    "    estimator = BayesianGaussianMixture(n_components=upper_clust_lim, random_state=42)\n",
    "    estimator.fit(data)\n",
    "    \n",
    "    red_data = dim_reduction(data)\n",
    "    vis_df = pd.DataFrame(red_data, columns=[\"x\", \"y\"])\n",
    "    vis_df[\"labels\"] = estimator.predict(data) \n",
    "    \n",
    "    return vis_df"
   ]
  },
  {
   "cell_type": "code",
   "execution_count": 112,
   "metadata": {},
   "outputs": [
    {
     "name": "stdout",
     "output_type": "stream",
     "text": [
      "2 0\n",
      "3 0\n",
      "4 1\n",
      "5 2\n"
     ]
    }
   ],
   "source": [
    "vis_df, c_df = silh_estimate_clusters(data=features)"
   ]
  },
  {
   "cell_type": "code",
   "execution_count": 125,
   "metadata": {},
   "outputs": [
    {
     "name": "stdout",
     "output_type": "stream",
     "text": [
      "2 0\n",
      "3 0\n",
      "4 1\n",
      "5 2\n"
     ]
    },
    {
     "ename": "AttributeError",
     "evalue": "'GaussianMixture' object has no attribute 'labels_'",
     "output_type": "error",
     "traceback": [
      "\u001b[0;31m---------------------------------------------------------------------------\u001b[0m",
      "\u001b[0;31mAttributeError\u001b[0m                            Traceback (most recent call last)",
      "\u001b[0;32m<ipython-input-125-bde4c87836da>\u001b[0m in \u001b[0;36m<module>\u001b[0;34m\u001b[0m\n\u001b[0;32m----> 1\u001b[0;31m \u001b[0mpos_vis_df\u001b[0m\u001b[0;34m,\u001b[0m \u001b[0mpos_c_df\u001b[0m \u001b[0;34m=\u001b[0m \u001b[0msilh_estimate_clusters\u001b[0m\u001b[0;34m(\u001b[0m\u001b[0mdata\u001b[0m\u001b[0;34m=\u001b[0m\u001b[0mpos_enc_features\u001b[0m\u001b[0;34m)\u001b[0m\u001b[0;34m\u001b[0m\u001b[0;34m\u001b[0m\u001b[0m\n\u001b[0m",
      "\u001b[0;32m<ipython-input-123-905ae72a3c97>\u001b[0m in \u001b[0;36msilh_estimate_clusters\u001b[0;34m(data)\u001b[0m\n\u001b[1;32m     34\u001b[0m \u001b[0;34m\u001b[0m\u001b[0m\n\u001b[1;32m     35\u001b[0m     \u001b[0mvis_df\u001b[0m \u001b[0;34m=\u001b[0m \u001b[0mpd\u001b[0m\u001b[0;34m.\u001b[0m\u001b[0mDataFrame\u001b[0m\u001b[0;34m(\u001b[0m\u001b[0mred_data\u001b[0m\u001b[0;34m,\u001b[0m \u001b[0mcolumns\u001b[0m\u001b[0;34m=\u001b[0m\u001b[0;34m[\u001b[0m\u001b[0;34m\"x\"\u001b[0m\u001b[0;34m,\u001b[0m \u001b[0;34m\"y\"\u001b[0m\u001b[0;34m]\u001b[0m\u001b[0;34m)\u001b[0m\u001b[0;34m\u001b[0m\u001b[0;34m\u001b[0m\u001b[0m\n\u001b[0;32m---> 36\u001b[0;31m     \u001b[0mvis_df\u001b[0m\u001b[0;34m[\u001b[0m\u001b[0;34m\"labels\"\u001b[0m\u001b[0;34m]\u001b[0m \u001b[0;34m=\u001b[0m \u001b[0mmax_sil_model\u001b[0m\u001b[0;34m.\u001b[0m\u001b[0mlabels_\u001b[0m\u001b[0;34m\u001b[0m\u001b[0;34m\u001b[0m\u001b[0m\n\u001b[0m\u001b[1;32m     37\u001b[0m \u001b[0;34m\u001b[0m\u001b[0m\n\u001b[1;32m     38\u001b[0m     \u001b[0;32mreturn\u001b[0m \u001b[0mvis_df\u001b[0m\u001b[0;34m,\u001b[0m \u001b[0mc_df\u001b[0m\u001b[0;34m\u001b[0m\u001b[0;34m\u001b[0m\u001b[0m\n",
      "\u001b[0;31mAttributeError\u001b[0m: 'GaussianMixture' object has no attribute 'labels_'"
     ]
    }
   ],
   "source": [
    "pos_vis_df, pos_c_df = silh_estimate_clusters(data=pos_enc_features)"
   ]
  },
  {
   "cell_type": "code",
   "execution_count": 133,
   "metadata": {},
   "outputs": [
    {
     "data": {
      "text/plain": [
       "<seaborn.axisgrid.FacetGrid at 0x7ff88cbeaf28>"
      ]
     },
     "execution_count": 133,
     "metadata": {},
     "output_type": "execute_result"
    },
    {
     "data": {
      "image/png": "[encoded data removed]",
      "text/plain": [
       "<Figure size 408.75x360 with 1 Axes>"
      ]
     },
     "metadata": {
      "needs_background": "light"
     },
     "output_type": "display_data"
    }
   ],
   "source": [
    "pos_vis_df = bayesian_mixture(pos_enc_features)\n",
    "sns.lmplot(data=pos_vis_df, x='x', y='y', hue='labels', \n",
    "           x_jitter=.3, y_jitter=.3,\n",
    "           fit_reg=False, legend=True, legend_out=True).set(title=\"BGM clusters\")"
   ]
  },
  {
   "cell_type": "code",
   "execution_count": 134,
   "metadata": {},
   "outputs": [
    {
     "data": {
      "text/plain": [
       "<seaborn.axisgrid.FacetGrid at 0x7ff87840ef98>"
      ]
     },
     "execution_count": 134,
     "metadata": {},
     "output_type": "execute_result"
    },
    {
     "data": {
      "image/png": "[encoded data removed]",
      "text/plain": [
       "<Figure size 432x288 with 1 Axes>"
      ]
     },
     "metadata": {
      "needs_background": "light"
     },
     "output_type": "display_data"
    },
    {
     "data": {
      "image/png": "[encoded data removed]",
      "text/plain": [
       "<Figure size 402.375x360 with 1 Axes>"
      ]
     },
     "metadata": {
      "needs_background": "light"
     },
     "output_type": "display_data"
    }
   ],
   "source": [
    "sns.lineplot(y='silhouette', x='n_components', data=c_df).set(title=\"Normal features\")\n",
    "sns.lmplot(data=vis_df, x='x', y='y', hue='labels', \n",
    "           x_jitter=.3, y_jitter=.3,\n",
    "           fit_reg=False, legend=True, legend_out=True).set(title=\"Sil clusters\")"
   ]
  },
  {
   "cell_type": "code",
   "execution_count": 115,
   "metadata": {},
   "outputs": [
    {
     "data": {
      "text/plain": [
       "<seaborn.axisgrid.FacetGrid at 0x7ff870feb358>"
      ]
     },
     "execution_count": 115,
     "metadata": {},
     "output_type": "execute_result"
    },
    {
     "data": {
      "image/png": "[encoded data removed]",
      "text/plain": [
       "<Figure size 432x288 with 1 Axes>"
      ]
     },
     "metadata": {
      "needs_background": "light"
     },
     "output_type": "display_data"
    },
    {
     "data": {
      "image/png": "[encoded data removed]",
      "text/plain": [
       "<Figure size 402.375x360 with 1 Axes>"
      ]
     },
     "metadata": {
      "needs_background": "light"
     },
     "output_type": "display_data"
    }
   ],
   "source": [
    "sns.lineplot(y='silhouette', x='n_components', data=pos_c_df).set(title=\"Positional Encoded features\")\n",
    "sns.lmplot(data=pos_vis_df, x='x', y='y', hue='labels', \n",
    "           x_jitter=.3, y_jitter=.3,\n",
    "           fit_reg=False, legend=True, legend_out=True).set(title=\"Sil clusters\")"
   ]
  },
  {
   "cell_type": "code",
   "execution_count": 12,
   "metadata": {},
   "outputs": [],
   "source": [
    "def get_segments(data: np.ndarray):\n",
    "    \"\"\" Get continuous time intervals (segments) from a video\n",
    "    \n",
    "    args:\n",
    "    data - label of each segment\n",
    "    labels - the unique labels\n",
    "    \n",
    "    return:\n",
    "    segs - dict of list of tuples, where each key is a label and tuple is a continuous segment \n",
    "    \"\"\"\n",
    "    segs = []\n",
    "    for label in np.unique(data):\n",
    "        idxs = np.where(data == label)[0]\n",
    "        curr = idxs[0]\n",
    "        last = None\n",
    "        step = 0\n",
    "        for idx in idxs:\n",
    "            if idx != curr + step:\n",
    "                segs.append({label: (curr, last)})\n",
    "                curr = idx\n",
    "                step = 1\n",
    "                last = None\n",
    "            else:\n",
    "                last = idx\n",
    "                step += 1\n",
    "\n",
    "        segs.append({label: (curr, idx)})\n",
    "    segs.sort(key=lambda value: list(value.values())[0])\n",
    "    return segs"
   ]
  },
  {
   "cell_type": "code",
   "execution_count": 13,
   "metadata": {},
   "outputs": [
    {
     "data": {
      "text/plain": [
       "[{1: (0, 47)},\n",
       " {5: (48, 191)},\n",
       " {3: (192, 239)},\n",
       " {2: (240, 255)},\n",
       " {0: (256, 271)},\n",
       " {4: (272, 335)},\n",
       " {0: (336, 511)}]"
      ]
     },
     "execution_count": 13,
     "metadata": {},
     "output_type": "execute_result"
    }
   ],
   "source": [
    "get_segments(gm_labels)"
   ]
  },
  {
   "cell_type": "code",
   "execution_count": 4,
   "metadata": {},
   "outputs": [],
   "source": [
    "from video import Video"
   ]
  },
  {
   "cell_type": "code",
   "execution_count": 6,
   "metadata": {},
   "outputs": [
    {
     "name": "stdout",
     "output_type": "stream",
     "text": [
      "save\n",
      "save\n",
      "save\n",
      "save\n",
      "save\n",
      "save\n",
      "save\n",
      "save\n",
      "save\n",
      "save\n",
      "save\n",
      "save\n",
      "save\n",
      "save\n",
      "save\n",
      "save\n",
      "save\n",
      "save\n",
      "save\n",
      "save\n",
      "save\n",
      "save\n",
      "save\n",
      "save\n",
      "save\n",
      "save\n",
      "save\n",
      "save\n",
      "save\n",
      "save\n",
      "save\n",
      "save\n",
      "save\n",
      "save\n",
      "save\n",
      "save\n",
      "save\n",
      "save\n",
      "save\n",
      "save\n",
      "save\n",
      "save\n",
      "save\n",
      "save\n",
      "save\n",
      "save\n",
      "save\n",
      "save\n",
      "save\n",
      "save\n",
      "save\n",
      "save\n",
      "save\n",
      "save\n",
      "save\n",
      "save\n",
      "save\n",
      "save\n",
      "save\n",
      "save\n",
      "save\n",
      "save\n",
      "save\n",
      "save\n",
      "save\n",
      "save\n",
      "save\n",
      "save\n",
      "save\n",
      "save\n",
      "save\n",
      "save\n",
      "save\n",
      "save\n",
      "save\n",
      "save\n",
      "save\n",
      "save\n",
      "save\n",
      "save\n",
      "save\n",
      "save\n",
      "save\n",
      "save\n",
      "save\n",
      "save\n",
      "save\n",
      "save\n",
      "save\n",
      "save\n",
      "save\n",
      "save\n",
      "save\n",
      "save\n",
      "save\n",
      "save\n",
      "save\n",
      "save\n",
      "save\n",
      "save\n",
      "save\n",
      "save\n",
      "save\n",
      "save\n",
      "save\n",
      "save\n",
      "save\n",
      "save\n",
      "save\n",
      "save\n",
      "save\n",
      "save\n",
      "save\n",
      "save\n",
      "save\n",
      "save\n",
      "save\n",
      "save\n",
      "save\n",
      "save\n",
      "save\n",
      "save\n",
      "save\n",
      "save\n",
      "save\n",
      "save\n",
      "save\n",
      "save\n",
      "save\n",
      "save\n",
      "save\n",
      "save\n",
      "save\n",
      "save\n",
      "save\n",
      "save\n",
      "save\n",
      "save\n",
      "save\n",
      "save\n",
      "save\n",
      "save\n",
      "save\n",
      "save\n",
      "save\n",
      "save\n",
      "save\n",
      "save\n",
      "save\n",
      "save\n",
      "save\n",
      "save\n",
      "save\n",
      "save\n",
      "save\n",
      "save\n",
      "save\n",
      "save\n",
      "save\n",
      "save\n",
      "save\n",
      "save\n",
      "save\n",
      "save\n",
      "save\n",
      "save\n",
      "save\n",
      "save\n",
      "save\n",
      "save\n",
      "save\n",
      "save\n",
      "save\n",
      "save\n",
      "save\n",
      "save\n"
     ]
    },
    {
     "ename": "FileNotFoundError",
     "evalue": "[Errno 2] No such file or directory: 'home/guilherme/Mestrado/action_segmentation_app/data/RoadAccidents010_x264.mp4_segments/temp_1_0_175_RoadAccidents010_x264.mp4'",
     "output_type": "error",
     "traceback": [
      "\u001b[0;31m---------------------------------------------------------------------------\u001b[0m",
      "\u001b[0;31mFileNotFoundError\u001b[0m                         Traceback (most recent call last)",
      "\u001b[0;32m<ipython-input-6-334235b7cc5a>\u001b[0m in \u001b[0;36m<module>\u001b[0;34m\u001b[0m\n\u001b[1;32m      1\u001b[0m \u001b[0mv\u001b[0m \u001b[0;34m=\u001b[0m \u001b[0mVideo\u001b[0m\u001b[0;34m(\u001b[0m\u001b[0mFEATURES_PATH\u001b[0m\u001b[0;34m)\u001b[0m\u001b[0;34m\u001b[0m\u001b[0;34m\u001b[0m\u001b[0m\n\u001b[0;32m----> 2\u001b[0;31m \u001b[0mpaths\u001b[0m \u001b[0;34m=\u001b[0m \u001b[0mv\u001b[0m\u001b[0;34m.\u001b[0m\u001b[0mclusters_to_videos\u001b[0m\u001b[0;34m(\u001b[0m\u001b[0mlabels\u001b[0m\u001b[0;34m)\u001b[0m\u001b[0;34m\u001b[0m\u001b[0;34m\u001b[0m\u001b[0m\n\u001b[0m",
      "\u001b[0;32m~/Mestrado/action_segmentation_app/video.py\u001b[0m in \u001b[0;36mclusters_to_videos\u001b[0;34m(self, clusters)\u001b[0m\n\u001b[1;32m     60\u001b[0m                     \u001b[0;32mbreak\u001b[0m\u001b[0;34m\u001b[0m\u001b[0;34m\u001b[0m\u001b[0m\n\u001b[1;32m     61\u001b[0m             seg_path = self.write_segment(\n\u001b[0;32m---> 62\u001b[0;31m                 np.array(seg_frames), start, end, cluster)\n\u001b[0m\u001b[1;32m     63\u001b[0m             \u001b[0mseg_paths\u001b[0m\u001b[0;34m.\u001b[0m\u001b[0mappend\u001b[0m\u001b[0;34m(\u001b[0m\u001b[0mseg_path\u001b[0m\u001b[0;34m)\u001b[0m\u001b[0;34m\u001b[0m\u001b[0;34m\u001b[0m\u001b[0m\n\u001b[1;32m     64\u001b[0m \u001b[0;34m\u001b[0m\u001b[0m\n",
      "\u001b[0;32m~/Mestrado/action_segmentation_app/video.py\u001b[0m in \u001b[0;36mwrite_segment\u001b[0;34m(self, frames, start, end, cluster)\u001b[0m\n\u001b[1;32m     73\u001b[0m \u001b[0;34m\u001b[0m\u001b[0m\n\u001b[1;32m     74\u001b[0m         \u001b[0mseg_path\u001b[0m \u001b[0;34m=\u001b[0m \u001b[0mos\u001b[0m\u001b[0;34m.\u001b[0m\u001b[0mpath\u001b[0m\u001b[0;34m.\u001b[0m\u001b[0mjoin\u001b[0m\u001b[0;34m(\u001b[0m\u001b[0mself\u001b[0m\u001b[0;34m.\u001b[0m\u001b[0msegments_dir\u001b[0m\u001b[0;34m,\u001b[0m \u001b[0mfname\u001b[0m\u001b[0;34m)\u001b[0m\u001b[0;34m\u001b[0m\u001b[0;34m\u001b[0m\u001b[0m\n\u001b[0;32m---> 75\u001b[0;31m         \u001b[0mself\u001b[0m\u001b[0;34m.\u001b[0m\u001b[0m_v_io\u001b[0m\u001b[0;34m.\u001b[0m\u001b[0mwrite\u001b[0m\u001b[0;34m(\u001b[0m\u001b[0mframes\u001b[0m\u001b[0;34m,\u001b[0m \u001b[0mseg_path\u001b[0m\u001b[0;34m)\u001b[0m\u001b[0;34m\u001b[0m\u001b[0;34m\u001b[0m\u001b[0m\n\u001b[0m\u001b[1;32m     76\u001b[0m         \u001b[0;32mreturn\u001b[0m \u001b[0mseg_path\u001b[0m\u001b[0;34m\u001b[0m\u001b[0;34m\u001b[0m\u001b[0m\n",
      "\u001b[0;32m~/Mestrado/action_segmentation_app/data_io.py\u001b[0m in \u001b[0;36mwrite\u001b[0;34m(self, frames, path)\u001b[0m\n\u001b[1;32m    120\u001b[0m \u001b[0;34m\u001b[0m\u001b[0m\n\u001b[1;32m    121\u001b[0m         \u001b[0mself\u001b[0m\u001b[0;34m.\u001b[0m\u001b[0mconvert_codec\u001b[0m\u001b[0;34m(\u001b[0m\u001b[0mtemp_path\u001b[0m\u001b[0;34m,\u001b[0m \u001b[0mpath\u001b[0m\u001b[0;34m)\u001b[0m\u001b[0;34m\u001b[0m\u001b[0;34m\u001b[0m\u001b[0m\n\u001b[0;32m--> 122\u001b[0;31m         \u001b[0mos\u001b[0m\u001b[0;34m.\u001b[0m\u001b[0mremove\u001b[0m\u001b[0;34m(\u001b[0m\u001b[0mtemp_path\u001b[0m\u001b[0;34m)\u001b[0m\u001b[0;34m\u001b[0m\u001b[0;34m\u001b[0m\u001b[0m\n\u001b[0m\u001b[1;32m    123\u001b[0m \u001b[0;34m\u001b[0m\u001b[0m\n\u001b[1;32m    124\u001b[0m     \u001b[0;32mdef\u001b[0m \u001b[0mmetadata\u001b[0m\u001b[0;34m(\u001b[0m\u001b[0mself\u001b[0m\u001b[0;34m,\u001b[0m \u001b[0mpath\u001b[0m\u001b[0;34m:\u001b[0m \u001b[0mstr\u001b[0m\u001b[0;34m)\u001b[0m \u001b[0;34m->\u001b[0m \u001b[0mtuple\u001b[0m\u001b[0;34m:\u001b[0m\u001b[0;34m\u001b[0m\u001b[0;34m\u001b[0m\u001b[0m\n",
      "\u001b[0;31mFileNotFoundError\u001b[0m: [Errno 2] No such file or directory: 'home/guilherme/Mestrado/action_segmentation_app/data/RoadAccidents010_x264.mp4_segments/temp_1_0_175_RoadAccidents010_x264.mp4'"
     ]
    }
   ],
   "source": [
    "v = Video(FEATURES_PATH)\n",
    "paths = v.clusters_to_videos(labels)"
   ]
  },
  {
   "cell_type": "code",
   "execution_count": 54,
   "metadata": {},
   "outputs": [
    {
     "data": {
      "text/plain": [
       "[{1: (0, 175)},\n",
       " {4: (176, 191)},\n",
       " {1: (192, 223)},\n",
       " {2: (224, 255)},\n",
       " {5: (256, 271)},\n",
       " {3: (272, 367)},\n",
       " {0: (368, 511)}]"
      ]
     },
     "execution_count": 54,
     "metadata": {},
     "output_type": "execute_result"
    }
   ],
   "source": [
    "get_segments(labels)"
   ]
  },
  {
   "cell_type": "code",
   "execution_count": 26,
   "metadata": {},
   "outputs": [
    {
     "data": {
      "text/plain": [
       "{0: [(240, 255)],\n",
       " 1: [(0, 15), (368, 415)],\n",
       " 2: [(48, 63), (144, 159), (256, 271), (448, 479)],\n",
       " 3: [(32, 47), (64, 143), (160, 239), (272, 351), (416, 447), (480, 511)],\n",
       " 4: [(16, 31)],\n",
       " 5: [(352, 367)]}"
      ]
     },
     "execution_count": 26,
     "metadata": {},
     "output_type": "execute_result"
    }
   ],
   "source": [
    "get_segments(sc_labels, np.unique(sc_labels))"
   ]
  }
 ],
 "metadata": {
  "kernelspec": {
   "display_name": "action_segmentation_env",
   "language": "python",
   "name": "action_segmentation_env"
  },
  "language_info": {
   "codemirror_mode": {
    "name": "ipython",
    "version": 3
   },
   "file_extension": ".py",
   "mimetype": "text/x-python",
   "name": "python",
   "nbconvert_exporter": "python",
   "pygments_lexer": "ipython3",
   "version": "3.6.9"
  }
 },
 "nbformat": 4,
 "nbformat_minor": 4
}
